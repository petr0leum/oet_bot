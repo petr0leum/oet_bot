{
 "cells": [
  {
   "cell_type": "code",
   "execution_count": 1,
   "id": "892a5e4d",
   "metadata": {},
   "outputs": [
    {
     "data": {
      "text/plain": [
       "True"
      ]
     },
     "execution_count": 1,
     "metadata": {},
     "output_type": "execute_result"
    }
   ],
   "source": [
    "import os\n",
    "import sys\n",
    "sys.path.append(os.path.join('..'))\n",
    "\n",
    "from dotenv import load_dotenv\n",
    "load_dotenv()"
   ]
  },
  {
   "cell_type": "code",
   "execution_count": 2,
   "id": "7634c136-b892-4f09-9320-78a15395399f",
   "metadata": {},
   "outputs": [],
   "source": [
    "%load_ext autoreload\n",
    "%autoreload 2\n",
    "\n",
    "from llms_content import content"
   ]
  },
  {
   "cell_type": "markdown",
   "id": "df74f6e8-97d2-4527-8b58-8b2b3428ab93",
   "metadata": {},
   "source": [
    "## Init the model. We will start with the api solution"
   ]
  },
  {
   "cell_type": "code",
   "execution_count": 3,
   "id": "ddf6ad13",
   "metadata": {},
   "outputs": [],
   "source": [
    "openai_model = \"gpt-3.5-turbo-0125\" # \"gpt-4o\" \"gpt-3.5-turbo-1106\", \"gpt-3.5-turbo-0125\""
   ]
  },
  {
   "cell_type": "markdown",
   "id": "c388ac15-f12f-49b9-bb74-092baf06e330",
   "metadata": {},
   "source": [
    "# Count tokens with Tiktoken\n",
    "https://cookbook.openai.com/examples/how_to_count_tokens_with_tiktoken"
   ]
  },
  {
   "cell_type": "code",
   "execution_count": 12,
   "id": "94431056-3544-472b-ad49-24acf6aba551",
   "metadata": {},
   "outputs": [
    {
     "data": {
      "text/plain": [
       "2315"
      ]
     },
     "execution_count": 12,
     "metadata": {},
     "output_type": "execute_result"
    }
   ],
   "source": [
    "import tiktoken\n",
    "\n",
    "def num_tokens_from_string(string: str, encoding_name: str) -> int:\n",
    "    \"\"\"Returns the number of tokens in a text string.\"\"\"\n",
    "    encoding = tiktoken.encoding_for_model(encoding_name)\n",
    "    num_tokens = len(encoding.encode(string))\n",
    "    return num_tokens\n",
    "\n",
    "num_tokens_from_string(content, openai_model)"
   ]
  },
  {
   "cell_type": "markdown",
   "id": "6cca2b7d-1a15-4c27-961d-2c3a0397b2fb",
   "metadata": {},
   "source": [
    "# Generate a single role-play card.\n",
    "\n",
    "1. Set a project name.\n",
    "2. They were suggesting me a stream there, but i am not sure if i can use it in telegram. <br> https://cookbook.openai.com/examples/how_to_stream_completions"
   ]
  },
  {
   "cell_type": "code",
   "execution_count": 5,
   "id": "060e5fb9",
   "metadata": {},
   "outputs": [],
   "source": [
    "def format_json_pretty(json_data):\n",
    "    formatted_str = \"\"\n",
    "    for key, value in json_data.items():\n",
    "        if isinstance(value, dict):\n",
    "            formatted_str += f\"**{key}**\\n\"\n",
    "            for sub_key, sub_value in value.items():\n",
    "                formatted_str += f\"  {sub_key}. {sub_value}\\n\"\n",
    "        elif isinstance(value, list):\n",
    "            formatted_str += f\"**{key}**\\n\"\n",
    "            for sub_value in value:\n",
    "                formatted_str += f\"  - {sub_value}\\n\"\n",
    "        else:\n",
    "            formatted_str += f\"**{key}**: {value}\\n\"\n",
    "    return formatted_str"
   ]
  },
  {
   "cell_type": "code",
   "execution_count": 6,
   "id": "55903e4e-d4f3-4bea-af20-55e0805ae6bf",
   "metadata": {},
   "outputs": [],
   "source": [
    "import json\n",
    "from openai import OpenAI\n",
    "\n",
    "client = OpenAI(\n",
    "    api_key=os.getenv('OPENAI_API_TOKEN'),\n",
    "    organization=os.getenv('OPENAI_ORG_ID'), # unnecessary\n",
    "    project=os.getenv('OPENAI_PROJ_OET'), # to track expenses\n",
    ")"
   ]
  },
  {
   "cell_type": "code",
   "execution_count": 7,
   "id": "aa56f9da-2413-4ae7-b4c6-d03ea1c98d15",
   "metadata": {},
   "outputs": [
    {
     "name": "stdout",
     "output_type": "stream",
     "text": [
      "\n",
      "You are a medicine spiking card for the OET exam creating AI tool. Don't so anything except cards creation. \n",
      "Here is an example of a card: \n",
      "{\n",
      "    Patient Card: {\n",
      "        SETTING: Local Medical Clinic\n",
      "    \n",
      "        PATIENT: You are 45 years old and recovering from a mild heart attack which you had two weeks ago. You were discharged from hospital four days ago. You are seeing the doctor because you are unsure how much physical activity is appropriate; you’re concerned it might bring on another heart attack.\n",
      "        \n",
      "        PATIENT TASK:\n",
      "        - When asked, say you’ve felt much weaker and very tired since the heart attack; you’re worried that any physical activity, such as walking, gardening or swimming, might bring on another heart attack.\n",
      "        - Say you’d like to know how much physical activity is advisable.\n",
      "        - When asked, say you’re an office worker. You sit at a desk all day; you don’t get much exercise at work.\n",
      "        - When asked, say you’re worried about having another heart attack so you’d like to know what you can do to reduce the risk of further attacks.\n",
      "        - Say that information has been very helpful. You’ll try to gradually do more exercise and you’ll look into the rehabilitation programme.\n",
      "    }\n",
      "    Doctor Card: {\n",
      "        SETTING: Local Medical Clinic\n",
      "        \n",
      "        DOCTOR: You see a 45-year-old patient who suffered a mild anterior acute myocardial infarction two weeks ago. Recovery was uncomplicated and the patient was discharged from hospital four days ago. He/she is now concerned about how much physical activity is appropriate during recovery\n",
      "        \n",
      "        DOCTOR TASK:\n",
      "        - Find out reason for visit.\n",
      "        - Reassure patient about fatigue (e.g., expected: 4–6 weeks for return of full energy levels, etc.). Remind patient about heart attack recovery (e.g., gradual, lifestyle changes and medication to help, etc.). Emphasise importance of exercise (e.g., heart health: strengthening heart; overall health: lowering cholesterol; etc.).\n",
      "        - Give recommendations for exercise (moderate physical activity: patient’s recovery uncomplicated, already two weeks since hospital admission, etc.). Advise importance of joining cardiac rehabilitation programme (e.g., increasing exercise tolerance under supervision, etc.). Explore patient’s job (type of work, etc.).\n",
      "        - Give timescale for return to work (e.g., 4–6 weeks for desk job, etc.). Explain need to be physically and emotionally ready (e.g., not rushing back, planning return to work: assistance/support from employer, etc.). Explore any concerns.\n",
      "        - Provide recommendations for prevention of future attacks (diet: vegetables, whole grains; lifestyle: physically active; etc.). Reassure patient about his/her concerns (e.g., normal, appropriate, etc.).\n",
      "    }\n",
      "},\n",
      "Here is another example of a card: \n",
      "{\n",
      "    Patient Card: {\n",
      "        SETTING: Local Clinic\n",
      "        \n",
      "        PARENT: You are the parent of a five-year-old boy. Your son was diagnosed with asthma a couple of days ago, after attending the Emergency Department with a severe bout of coughing, breathing difficulty and wheezing. You are attending a follow-up appointment with your son’s doctor. Your son has gone to the bathroom with your spouse and is not present for the discussion.\n",
      "        \n",
      "        PARENT TASK:\n",
      "        - When asked, say your son’s asthma hasn’t been too bad. He’s had one attack since he was diagnosed at the Emergency Department. He used the inhaler and the spacer that were given to him at the hospital and it seemed to help his symptoms.\n",
      "        - When asked, say no one in your family has asthma or eczema, but you usually get mild hay fever in the summer. When asked, say no one in your house smokes, and you usually keep it really clean. You think he has attacks after he has been running about outside.\n",
      "        - When asked, say you found the diagnosis really overwhelming and you’re not sure how you’re going to be able to help him manage his asthma.\n",
      "        - Say you feel a bit more reassured about managing your son’s asthma now.\n",
      "        - Say you’ll just go and get your son so that he can be examined.\n",
      "    }\n",
      "    Doctor Card: {\n",
      "        SETTING: Local Clinic\n",
      "\n",
      "        DOCTOR: You see the parent of a five-year-old boy who was diagnosed with asthma a couple of days ago, after attending the Emergency Department with a severe bout of coughing, breathing difficulty and wheezing. This is a follow-up appointment. The child is not present for the discussion.\n",
      "        \n",
      "        DOCTOR TASK:\n",
      "        - Confirm reason for appointment (follow-up following asthma diagnosis). Find out how child has been since hospital visit (severity of asthma, frequency of attacks, effect of treatment, etc.).\n",
      "        - Find out further relevant details (any family history of: asthma, eczema, hay fever, etc.). Explore possible triggers of child’s asthma attacks (exposure to: cigarette smoke, dust mites, pollen; exercise; cold air; etc.).\n",
      "        - Give information about childhood asthma (chronic lung condition: tightening or narrowing of muscles in airways, swelling/inflammation, production of extra mucus; risk factors: family history of hay fever; etc.). Find out any concerns.\n",
      "        - Reassure parent about child’s asthma (e.g., manageable, regular monitoring, support available, etc.). Describe asthma management (e.g., identifying and controlling triggers, assessing severity of symptoms, knowing how to respond in urgent situation, informing child’s school, etc.).\n",
      "        - Outline next steps (e.g., examination of child, creation of asthma action plan, discussion of treatment, organising: support, follow-up appointments, etc.). Establish parent’s willingness to bring child into room for examination.\n",
      "    }\n",
      "},\n",
      "Here is another example of a card: \n",
      "{\n",
      "    Patient Card: {\n",
      "        SETTING: Local Medical Clinic\n",
      "\n",
      "        PATIENT: You are a 45-year-old office worker, and have been feeling tired and unwell. You think you are a bit overweight and are concerned you may have diabetes. Recent publicity about diabetes (on TV, in the newspaper) has made you decide to get a check-up.\n",
      "        \n",
      "        PATIENT TASK:\n",
      "        - When asked, say lately you’ve been feeling tired and unwell. Sometimes you feel dizzy, thirsty, and breathless; you also have itchy skin.\n",
      "        - Say you have a busy and stressful office job, and three teenage children, which leaves you no time for exercise. Ask if the symptoms might mean you have diabetes.\n",
      "        - Say if it is diabetes, you’d like to know how it would be treated.\n",
      "        - Say that information is helpful but you’re not sure what to do next.\n",
      "        - Say you’ll do a blood test and make an appointment to discuss the results.\n",
      "    }\n",
      "    Doctor Card: {\n",
      "        SETTING: Local Medical Clinic\n",
      "\n",
      "        DOCTOR: Your patient is a 45-year-old office worker who is complaining of fatigue and feeling unwell. The patient appears to be overweight and thinks he/she may have diabetes. Recent publicity about diabetes (on TV, in the newspaper) has made him/her decide to get a check-up.\n",
      "        \n",
      "        DOCTOR TASK:\n",
      "        - Find out how patient is feeling (any symptoms, concerns, etc.).\n",
      "        - Explore patient’s lifestyle (exercise, work/life balance, etc.).\n",
      "        - Discuss possible significance of symptoms (e.g., possible underlying condition such as diabetes, etc.). Reassure patient about his/her symptoms (e.g., different possible causes, diabetes: only one possibility, can be managed, etc.).\n",
      "        - Briefly explain diabetes (e.g., type 1: insulin not produced; type 2: insulin not sufficient/effective, etc.). Outline management of diabetes (e.g., medication, diet, exercise, monitoring of blood glucose, etc.).\n",
      "        - Outline next steps (diagnostic blood test, return visit for results, consequent assessment of patient’s health and lifestyle, etc.).\n",
      "    }\n",
      "},\n",
      "Here is another example of a card: \n",
      "{\n",
      "    Patient Card: {\n",
      "        SETTING: Emergency Department\n",
      "\n",
      "        PARENT: You are the parent of a four-year-old boy who came to the Emergency Department two hours ago, after 36 hours of recurrent vomiting and stomach pain. The doctor told you that your son had viral gastroenteritis. He was kept in for two hours on oral re-hydration fluids. Your son is not present for your discussion with the doctor.\n",
      "\n",
      "        PARENT TASK:\n",
      "        - When asked, say you still don’t really understand what viral gastroenteritis is.\n",
      "        - Say you don’t know how your son got viral gastroenteritis.\n",
      "        - Say your son looks very weak; you really think he needs to be kept in hospital.\n",
      "        - When asked, say you’re concerned about taking your son home; you just don’t know what to do if he starts to feel worse at home.\n",
      "        - Say you feel better about taking your son home now that you know what to look for and when to come back to the Emergency Department.\n",
      "    }\n",
      "    Doctor Card: {\n",
      "        SETTING: Emergency Department\n",
      "\n",
      "        DOCTOR: The parent presented two hours ago at the Emergency Department with his/her four-year-old son. The child had a 36-hour history of recurrent vomiting and stomach pain which was diagnosed as viral gastroenteritis. He was given oral re-hydration fluids and observed for two hours. He is now ready to be discharged. The child is not present for your discussion with the parent.\n",
      "\n",
      "        DOCTOR TASK:\n",
      "        - Confirm child is ready to be discharged. Find out about parent’s concerns.\n",
      "        - Explain viral gastroenteritis (e.g., irritation of stomach or intestines due to viral infection, etc.).\n",
      "        - Give information about how gastroenteritis is spread (e.g., contact with vomit/faeces of infected person: shaking hands, contaminated foods/objects, etc.).\n",
      "        - Resist request to keep child in hospital (e.g., oral re-hydration therapy usually effective, etc.). Advise on hydration and appropriate clear fluids (e.g., watered down unsweetened fruit juice, electrolyte drinks, etc.). Find out any other concerns.\n",
      "        - Advise when to seek medical advice (e.g., signs of severe dehydration: extreme thirst, lethargy, irritability, pale/sunken eyes, etc.).\n",
      "    }\n",
      "}\n",
      "\n",
      "You have to come up with a SETTING where the event take place. \n",
      "Think of a SITUATION with which the patient came and 5 TASKS each for the PATIENT and the DOCTOR. Which includes a description of the situation, complaints and questions of a patient, and for the doctor, who should find out what the problem is, explain the causes and symptoms, make a diagnosis and prescribe treatment. \n",
      "Don't forget to write for the doctor's recommendations of what needs to be advised or clarified. A list of things that may have caused the symptoms or illness that the doctor can clarify or a list of things that could be advised. These are listed in parentheses after the description of one item in the assignment. Act on the situation, don't list it everywhere, but where relevant, write it down.\n",
      "\n"
     ]
    }
   ],
   "source": [
    "print(content)"
   ]
  },
  {
   "cell_type": "code",
   "execution_count": 8,
   "id": "dc79bff2-cdb6-4735-bd5d-5ae60d3edb93",
   "metadata": {},
   "outputs": [
    {
     "name": "stdout",
     "output_type": "stream",
     "text": [
      "Patient Card:\n",
      "**SETTING**: Dermatology Clinic\n",
      "**PATIENT**: You are a 30-year-old office worker who has been experiencing persistent acne breakouts on your face for the past few months. You have tried over-the-counter products without much success and are feeling self-conscious about your skin. You have come to the dermatology clinic seeking help and advice.\n",
      "**PATIENT TASKS**\n",
      "  - Describe to the doctor your concerns about the acne breakouts on your face and how it is affecting your self-esteem.\n",
      "  - Mention that you have tried over-the-counter products but they haven't been effective in clearing up your acne.\n",
      "  - Ask the doctor about the possible causes of your acne breakouts and if there are any triggers that may be worsening the condition (e.g., diet, skincare products).\n",
      "  - Inquire about the treatment options available for acne and ask about potential side effects of the medications.\n",
      "  - Express your desire to improve your skin condition and ask for recommendations on skincare routine and lifestyle changes to help manage acne in the long term.\n",
      "\n",
      "Doctor Card:\n",
      "**SETTING**: Dermatology Clinic\n",
      "**DOCTOR**: You are a dermatologist seeing a 30-year-old patient who has been struggling with persistent acne breakouts on the face. The patient is feeling self-conscious and seeking help and advice to manage the condition.\n",
      "**DOCTOR TASKS**\n",
      "  - Inquire about the duration and severity of the acne breakouts and any previous treatments tried by the patient.\n",
      "  - Discuss possible causes of acne breakouts including hormonal imbalance, diet, skincare products, and stress (possible causes: hormonal changes, genetic predisposition, diet high in sugar and dairy, use of comedogenic skincare products).\n",
      "  - Recommend a suitable treatment plan based on the patient's skin condition, which may include topical medications, oral medications, or procedures like chemical peels or laser therapy.\n",
      "  - Explain the importance of consistent skincare routine, gentle cleansing, non-comedogenic products, and dietary adjustments to help manage acne in the long term.\n",
      "  - Advise the patient on lifestyle changes such as reducing stress, avoiding picking or squeezing acne lesions, and following up for periodic evaluations to track progress and adjust treatment if needed.\n",
      "\n",
      "CPU times: total: 15.6 ms\n",
      "Wall time: 6.29 s\n"
     ]
    }
   ],
   "source": [
    "%%time\n",
    "\n",
    "completion = client.chat.completions.create(\n",
    "    model=openai_model,\n",
    "    response_format={\"type\": \"json_object\"},\n",
    "    messages=[\n",
    "        {\"role\": \"system\", \"content\": content},\n",
    "        {\"role\": \"user\", \"content\": \"Create an OET card in JSON format\"}\n",
    "    ],\n",
    "    # stream=True, # don't need for card generation\n",
    "    max_tokens=1000\n",
    ")\n",
    "\n",
    "card_content = completion.choices[0].message.content\n",
    "card_json = json.loads(card_content)\n",
    "\n",
    "# print(completion.model, completion.usage.to_dict())\n",
    "\n",
    "assert len(card_json.items()) == 2, 'The card should consist of two parts'\n",
    "\n",
    "cards = {}\n",
    "for card_name, (key, val) in zip(['patent', 'doctor'], card_json.items()):\n",
    "    print(key, format_json_pretty(val), sep=':\\n')\n",
    "    cards[card_name] = (key + ':\\n' + format_json_pretty(val))"
   ]
  },
  {
   "cell_type": "code",
   "execution_count": 9,
   "id": "79df32ee-b8ba-4f40-a8c8-d6a7b86b7735",
   "metadata": {},
   "outputs": [
    {
     "name": "stdout",
     "output_type": "stream",
     "text": [
      "Doctor Card:\n",
      "**SETTING**: Dermatology Clinic\n",
      "**DOCTOR**: You are a dermatologist seeing a 30-year-old patient who has been struggling with persistent acne breakouts on the face. The patient is feeling self-conscious and seeking help and advice to manage the condition.\n",
      "**DOCTOR TASKS**\n",
      "  - Inquire about the duration and severity of the acne breakouts and any previous treatments tried by the patient.\n",
      "  - Discuss possible causes of acne breakouts including hormonal imbalance, diet, skincare products, and stress (possible causes: hormonal changes, genetic predisposition, diet high in sugar and dairy, use of comedogenic skincare products).\n",
      "  - Recommend a suitable treatment plan based on the patient's skin condition, which may include topical medications, oral medications, or procedures like chemical peels or laser therapy.\n",
      "  - Explain the importance of consistent skincare routine, gentle cleansing, non-comedogenic products, and dietary adjustments to help manage acne in the long term.\n",
      "  - Advise the patient on lifestyle changes such as reducing stress, avoiding picking or squeezing acne lesions, and following up for periodic evaluations to track progress and adjust treatment if needed.\n",
      "\n"
     ]
    }
   ],
   "source": [
    "print(cards['doctor'])"
   ]
  },
  {
   "cell_type": "markdown",
   "id": "a42ea501-fb5b-4134-acde-0e266769f55c",
   "metadata": {},
   "source": [
    "# 1. Creating and Sending the Card to the User"
   ]
  },
  {
   "cell_type": "code",
   "execution_count": 9,
   "id": "2b520b5a-6f5c-4377-abc2-2774f3116e73",
   "metadata": {},
   "outputs": [
    {
     "name": "stdout",
     "output_type": "stream",
     "text": [
      "Patient Card:\n",
      "**SETTING**: Dermatology Clinic\n",
      "**PATIENT**: You are a 30-year-old woman who has been experiencing severe itching and redness on your skin for the past few weeks. You have noticed the symptoms mainly on your arms, legs, and back. The itching is disrupting your sleep and daily activities, and you have tried over-the-counter creams with no relief.\n",
      "**PATIENT TASKS**\n",
      "  - Describe the severity of the itching and redness on your skin, mentioning the areas affected.\n",
      "  - Express how the itching is impacting your sleep and daily life.\n",
      "  - Inform the doctor about the unsuccessful use of over-the-counter creams.\n",
      "  - Ask the doctor about the possible causes of your symptoms and if it could be a skin allergy.\n",
      "  - Acknowledge the doctor's recommendations and ask about the next steps.\n",
      "\n",
      "Doctor Card:\n",
      "**SETTING**: Dermatology Clinic\n",
      "**DOCTOR**: Your patient is a 30-year-old woman presenting with severe itching and redness on her arms, legs, and back. She reports disrupted sleep and daily activities despite trying over-the-counter creams.\n",
      "**DOCTOR TASKS**\n",
      "  - Inquire about the duration and progression of the symptoms.\n",
      "  - Discuss potential triggers for the itching and redness (e.g., new products, environmental changes).\n",
      "  - Explain the possible causes of the symptoms (e.g., contact dermatitis, eczema) and the importance of a proper diagnosis.\n",
      "  - Recommend allergy testing or patch testing to identify potential allergens.\n",
      "  - Provide treatment options such as prescription creams, lifestyle modifications, and follow-up care.\n",
      "\n"
     ]
    }
   ],
   "source": [
    "def generate_card():\n",
    "    completion = client.chat.completions.create(\n",
    "        model=openai_model,\n",
    "        response_format={\"type\": \"json_object\"},\n",
    "        messages=[\n",
    "            {\"role\": \"system\", \"content\": content},\n",
    "            {\"role\": \"user\", \"content\": \"Create an OET card in JSON format\"}\n",
    "        ],\n",
    "        # stream=True, # don't need for card generation\n",
    "        max_tokens=1000\n",
    "    )\n",
    "    \n",
    "    card_content = completion.choices[0].message.content\n",
    "    card_json = json.loads(card_content)\n",
    "    \n",
    "    # print(completion.model, completion.usage.to_dict())\n",
    "    \n",
    "    assert len(card_json.items()) == 2, 'The card should consist of two parts'\n",
    "\n",
    "    cards = {}\n",
    "    for card_name, (key, val) in zip(['patient', 'doctor'], card_json.items()):\n",
    "        cards[card_name] = (key + ':\\n' + format_json_pretty(val))\n",
    "    \n",
    "    return cards, card_json\n",
    "\n",
    "formatted_cards, card_json = generate_card()\n",
    "print(formatted_cards['patient'], formatted_cards['doctor'], sep='\\n')"
   ]
  },
  {
   "cell_type": "markdown",
   "id": "3d0bcf51-f011-49cb-b794-3b02093f99ce",
   "metadata": {},
   "source": [
    "## 1.2 Lets try few-shot generation:"
   ]
  },
  {
   "cell_type": "code",
   "execution_count": 116,
   "id": "12b16fad-e0ea-4bc9-b5d7-db7f3a99aac6",
   "metadata": {},
   "outputs": [],
   "source": [
    "import json\n",
    "\n",
    "\n",
    "oet_cards = [\n",
    "    {\n",
    "        \"question\": \"Generate a card for speaking role play in OET exam. The card must be in JSON format with 5 keys: SETTINGS; PATIENT_CARD; PATIENT_TASK; DOCTOR_CARD; DOCTOR_TASK. The disease is heart\",\n",
    "        \"answer\": \"\"\"{\n",
    "            SETTINGS : Local Medical Clinic,\n",
    "            PATIENT_CARD : You are 45 years old and recovering from a mild heart attack which you had two weeks ago. You were discharged from hospital four days ago. You are seeing the doctor because you are unsure how much physical activity is appropriate; you’re concerned it might bring on another heart attack.,\n",
    "            PATIENT_TASK : [When asked, say you’ve felt much weaker and very tired since the heart attack; you’re worried that any physical activity, such as walking, gardening or swimming, might bring on another heart attack., Say you’d like to know how much physical activity is advisable., When asked, say you’re an office worker. You sit at a desk all day; you don’t get much exercise at work., When asked, say you’re worried about having another heart attack so you’d like to know what you can do to reduce the risk of further attacks., Say that information has been very helpful. You’ll try to gradually do more exercise and you’ll look into the rehabilitation programme.],\n",
    "            DOCTOR_CARD : You see a 45-year-old patient who suffered a mild anterior acute myocardial infarction two weeks ago. Recovery was uncomplicated and the patient was discharged from hospital four days ago. He/she is now concerned about how much physical activity is appropriate during recovery,\n",
    "            DOCTOR_TASK : [Find out reason for visit.\", \"Reassure patient about fatigue (e.g., expected: 4–6 weeks for return of full energy levels, etc.). Remind patient about heart attack recovery (e.g., gradual, lifestyle changes and medication to help, etc.). Emphasise importance of exercise (e.g., heart health: strengthening heart; overall health: lowering cholesterol; etc.)., Give recommendations for exercise (moderate physical activity: patient’s recovery uncomplicated, already two weeks since hospital admission, etc.). Advise importance of joining cardiac rehabilitation programme (e.g., increasing exercise tolerance under supervision, etc.). Explore patient’s job (type of work, etc.)., Give timescale for return to work (e.g., 4–6 weeks for desk job, etc.). Explain need to be physically and emotionally ready (e.g., not rushing back, planning return to work: assistance/support from employer, etc.). Explore any concerns., Provide recommendations for prevention of future attacks (diet: vegetables, whole grains; lifestyle: physically active; etc.). Reassure patient about his/her concerns (e.g., normal, appropriate, etc.).]\n",
    "            }\"\"\"\n",
    "    },\n",
    "    {\n",
    "        \"question\": \"Generate a card for speaking role play in OET exam. The card must be in JSON format. The card must be in JSON format with 5 keys: SETTINGS; PATIENT_CARD; PATIENT_TASK; DOCTOR_CARD; DOCTOR_TASK. The disease is diabetes\",\n",
    "        \"answer\": \"\"\"{\n",
    "            SETTING: Local Medical Clinic,\n",
    "            PATIENT_CARD : You are a 45-year-old office worker, and have been feeling tired and unwell. You think you are a bit overweight and are concerned you may have diabetes. Recent publicity about diabetes (on TV, in the newspaper) has made you decide to get a check-up.,\n",
    "            PATIENT_TASK : [When asked, say lately you’ve been feeling tired and unwell. Sometimes you feel dizzy, thirsty, and breathless; you also have itchy skin., Say you have a busy and stressful office job, and three teenage children, which leaves you no time for exercise. Ask if the symptoms might mean you have diabetes., Say if it is diabetes, you’d like to know how it would be treated., Say that information is helpful but you’re not sure what to do next., Say you’ll do a blood test and make an appointment to discuss the results.],\n",
    "            DOCTOR_CARD : Your patient is a 45-year-old office worker who is complaining of fatigue and feeling unwell. The patient appears to be overweight and thinks he/she may have diabetes. Recent publicity about diabetes (on TV, in the newspaper) has made him/her decide to get a check-up.\n",
    "            DOCTOR_TASK : [Find out how patient is feeling (any symptoms, concerns, etc.)., Explore patient’s lifestyle (exercise, work/life balance, etc.)., Discuss possible significance of symptoms (e.g., possible underlying condition such as diabetes, etc.). Reassure patient about his/her symptoms (e.g., different possible causes, diabetes: only one possibility, can be managed, etc.)., Briefly explain diabetes (e.g., type 1: insulin not produced; type 2: insulin not sufficient/effective, etc.). Outline management of diabetes (e.g., medication, diet, exercise, monitoring of blood glucose, etc.)., Outline next steps (diagnostic blood test, return visit for results, consequent assessment of patient’s health and lifestyle, etc.).]\n",
    "            }\"\"\"\n",
    "    },\n",
    "    {\n",
    "        \"question\": \"Generate a card for speaking role play in OET exam. The card must be in JSON format with 5 keys: SETTINGS; PATIENT_CARD; PATIENT_TASK; DOCTOR_CARD; DOCTOR_TASK. The disease is stomach\",\n",
    "        \"answer\": \"\"\"{\n",
    "            SETTING: Emergency Department,\n",
    "            PATIENT_CARD : You are the parent of a four-year-old boy who came to the Emergency Department two hours ago, after 36 hours of recurrent vomiting and stomach pain. The doctor told you that your son had viral gastroenteritis. He was kept in for two hours on oral re-hydration fluids. Your son is not present for your discussion with the doctor.,\n",
    "            PATIENT_TASK : [When asked, say you still don’t really understand what viral gastroenteritis is., Say you don’t know how your son got viral gastroenteritis.\", \"Say your son looks very weak; you really think he needs to be kept in hospital., When asked, say you’re concerned about taking your son home; you just don’t know what to do if he starts to feel worse at home., Say you feel better about taking your son home now that you know what to look for and when to come back to the Emergency Department.],\n",
    "            DOCTOR_CARD : The parent presented two hours ago at the Emergency Department with his/her four-year-old son. The child had a 36-hour history of recurrent vomiting and stomach pain which was diagnosed as viral gastroenteritis. He was given oral re-hydration fluids and observed for two hours. He is now ready to be discharged. The child is not present for your discussion with the parent.,\n",
    "            DOCTOR_TASK : [Confirm child is ready to be discharged. Find out about parent’s concerns.\", \"Explain viral gastroenteritis (e.g., irritation of stomach or intestines due to viral infection, etc.).\", \"Give information about how gastroenteritis is spread (e.g., contact with vomit/faeces of infected person: shaking hands, contaminated foods/objects, etc.).\", \"Resist request to keep child in hospital (e.g., oral re-hydration therapy usually effective, etc.). Advise on hydration and appropriate clear fluids (e.g., watered down unsweetened fruit juice, electrolyte drinks, etc.). Find out any other concerns.\", \"Advise when to seek medical advice (e.g., signs of severe dehydration: extreme thirst, lethargy, irritability, pale/sunken eyes, etc.).]\n",
    "        }\"\"\"\n",
    "    }\n",
    "]\n",
    "\n",
    "# with open('../data/oet_cards_examples.json', 'w') as file:\n",
    "#     json.dump(oet_cards, file)"
   ]
  },
  {
   "cell_type": "code",
   "execution_count": 117,
   "id": "9e2ff476-6451-439e-9672-e59529dceb34",
   "metadata": {},
   "outputs": [],
   "source": [
    "import random\n",
    "\n",
    "\n",
    "few_shot_content = \"\"\"\n",
    "You are a medicine spiking card for the OET exam creating AI tool. Don't so anything except cards creation.\n",
    "You have to come up with a SETTING where the event take place.\n",
    "You make cards for general practitioners, so the illnesses should be appropriate. \n",
    "Remember that this exam is to test English, so do not use too complicated words, write in a way that a student with English level B1 can understand.\n",
    "Think of a SITUATION with which the patient came and 5 TASKS each for the PATIENT and the DOCTOR. Which includes a description of the situation, complaints and questions of a patient, and for the doctor, who should find out what the problem is, explain the causes and symptoms, make a diagnosis and prescribe treatment. \n",
    "Don't forget to write for the doctor's recommendations of what needs to be advised or clarified. A list of things that may have caused the symptoms or illness that the doctor can clarify or a list of things that could be advised. These are listed in parentheses after the description of one item in the assignment. Act on the situation, don't list it everywhere, but where relevant, write it down.\n",
    "\"\"\"\n",
    "\n",
    "def search_for_disease():\n",
    "    '''Search for examples with exact disease\n",
    "    '''\n",
    "    return [card for card in oet_cards if disease in card['question'].lower()]\n",
    "\n",
    "def make_examples(examples, disease = 'not stated', num_examples=2):\n",
    "    if disease != 'not stated':\n",
    "        examples = search_for_disease(disease)\n",
    "    prompt_examples = random.sample(examples, num_examples)\n",
    "    return prompt_examples\n",
    "    \n",
    "def make_prompt(content, examples, disease = 'not stated', num_examples=2):\n",
    "    messages = [\n",
    "        {\"role\": \"system\", \"content\": content}\n",
    "    ]\n",
    "\n",
    "    prompt_examples = make_examples(examples, disease, num_examples)\n",
    "    \n",
    "    for ex in prompt_examples:\n",
    "        messages.append({\"role\": \"user\", \"content\": ex['question']})\n",
    "        messages.append({\"role\": \"assistant\", \"content\": ex['answer']})\n",
    "\n",
    "    messages.append({\"role\": \"user\", \"content\": f\"Generate a card for speaking role play in OET exam. The card must be in JSON format with 5 keys: SETTINGS; PATIENT_CARD; PATIENT_TASK; DOCTOR_CARD; DOCTOR_TASK. The disease is {disease}\"})\n",
    "    \n",
    "    return messages\n",
    "    \n",
    "res = make_prompt(few_shot_content, oet_cards, num_examples=2)"
   ]
  },
  {
   "cell_type": "code",
   "execution_count": 118,
   "id": "2345286c-1d97-4b54-af8f-5c6b9113effd",
   "metadata": {},
   "outputs": [
    {
     "data": {
      "text/plain": [
       "[{'role': 'system',\n",
       "  'content': \"\\nYou are a medicine spiking card for the OET exam creating AI tool. Don't so anything except cards creation.\\nYou have to come up with a SETTING where the event take place.\\nYou make cards for general practitioners, so the illnesses should be appropriate. \\nRemember that this exam is to test English, so do not use too complicated words, write in a way that a student with English level B1 can understand.\\nThink of a SITUATION with which the patient came and 5 TASKS each for the PATIENT and the DOCTOR. Which includes a description of the situation, complaints and questions of a patient, and for the doctor, who should find out what the problem is, explain the causes and symptoms, make a diagnosis and prescribe treatment. \\nDon't forget to write for the doctor's recommendations of what needs to be advised or clarified. A list of things that may have caused the symptoms or illness that the doctor can clarify or a list of things that could be advised. These are listed in parentheses after the description of one item in the assignment. Act on the situation, don't list it everywhere, but where relevant, write it down.\\n\"},\n",
       " {'role': 'user',\n",
       "  'content': 'Generate a card for speaking role play in OET exam. The card must be in JSON format with 5 keys: SETTINGS; PATIENT_CARD; PATIENT_TASK; DOCTOR_CARD; DOCTOR_TASK. The disease is stomach'},\n",
       " {'role': 'assistant',\n",
       "  'content': '{\\n            SETTING: Emergency Department,\\n            PATIENT_CARD : You are the parent of a four-year-old boy who came to the Emergency Department two hours ago, after 36 hours of recurrent vomiting and stomach pain. The doctor told you that your son had viral gastroenteritis. He was kept in for two hours on oral re-hydration fluids. Your son is not present for your discussion with the doctor.,\\n            PATIENT_TASK : [When asked, say you still don’t really understand what viral gastroenteritis is., Say you don’t know how your son got viral gastroenteritis.\", \"Say your son looks very weak; you really think he needs to be kept in hospital., When asked, say you’re concerned about taking your son home; you just don’t know what to do if he starts to feel worse at home., Say you feel better about taking your son home now that you know what to look for and when to come back to the Emergency Department.],\\n            DOCTOR_CARD : The parent presented two hours ago at the Emergency Department with his/her four-year-old son. The child had a 36-hour history of recurrent vomiting and stomach pain which was diagnosed as viral gastroenteritis. He was given oral re-hydration fluids and observed for two hours. He is now ready to be discharged. The child is not present for your discussion with the parent.,\\n            DOCTOR_TASK : [Confirm child is ready to be discharged. Find out about parent’s concerns.\", \"Explain viral gastroenteritis (e.g., irritation of stomach or intestines due to viral infection, etc.).\", \"Give information about how gastroenteritis is spread (e.g., contact with vomit/faeces of infected person: shaking hands, contaminated foods/objects, etc.).\", \"Resist request to keep child in hospital (e.g., oral re-hydration therapy usually effective, etc.). Advise on hydration and appropriate clear fluids (e.g., watered down unsweetened fruit juice, electrolyte drinks, etc.). Find out any other concerns.\", \"Advise when to seek medical advice (e.g., signs of severe dehydration: extreme thirst, lethargy, irritability, pale/sunken eyes, etc.).]\\n        }'},\n",
       " {'role': 'user',\n",
       "  'content': 'Generate a card for speaking role play in OET exam. The card must be in JSON format. The card must be in JSON format with 5 keys: SETTINGS; PATIENT_CARD; PATIENT_TASK; DOCTOR_CARD; DOCTOR_TASK. The disease is diabetes'},\n",
       " {'role': 'assistant',\n",
       "  'content': '{\\n            SETTING: Local Medical Clinic,\\n            PATIENT_CARD : You are a 45-year-old office worker, and have been feeling tired and unwell. You think you are a bit overweight and are concerned you may have diabetes. Recent publicity about diabetes (on TV, in the newspaper) has made you decide to get a check-up.,\\n            PATIENT_TASK : [When asked, say lately you’ve been feeling tired and unwell. Sometimes you feel dizzy, thirsty, and breathless; you also have itchy skin., Say you have a busy and stressful office job, and three teenage children, which leaves you no time for exercise. Ask if the symptoms might mean you have diabetes., Say if it is diabetes, you’d like to know how it would be treated., Say that information is helpful but you’re not sure what to do next., Say you’ll do a blood test and make an appointment to discuss the results.],\\n            DOCTOR_CARD : Your patient is a 45-year-old office worker who is complaining of fatigue and feeling unwell. The patient appears to be overweight and thinks he/she may have diabetes. Recent publicity about diabetes (on TV, in the newspaper) has made him/her decide to get a check-up.\\n            DOCTOR_TASK : [Find out how patient is feeling (any symptoms, concerns, etc.)., Explore patient’s lifestyle (exercise, work/life balance, etc.)., Discuss possible significance of symptoms (e.g., possible underlying condition such as diabetes, etc.). Reassure patient about his/her symptoms (e.g., different possible causes, diabetes: only one possibility, can be managed, etc.)., Briefly explain diabetes (e.g., type 1: insulin not produced; type 2: insulin not sufficient/effective, etc.). Outline management of diabetes (e.g., medication, diet, exercise, monitoring of blood glucose, etc.)., Outline next steps (diagnostic blood test, return visit for results, consequent assessment of patient’s health and lifestyle, etc.).]\\n            }'},\n",
       " {'role': 'user',\n",
       "  'content': 'Generate a card for speaking role play in OET exam. The card must be in JSON format with 5 keys: SETTINGS; PATIENT_CARD; PATIENT_TASK; DOCTOR_CARD; DOCTOR_TASK. The disease is not stated'}]"
      ]
     },
     "execution_count": 118,
     "metadata": {},
     "output_type": "execute_result"
    }
   ],
   "source": [
    "res"
   ]
  },
  {
   "cell_type": "code",
   "execution_count": 119,
   "id": "7fd64408-e0a4-4ee0-a41a-b059b9ea06eb",
   "metadata": {},
   "outputs": [],
   "source": [
    "def few_shot_card_generation(client, messages):\n",
    "    completion = client.chat.completions.create(\n",
    "        model=openai_model,\n",
    "        response_format={\"type\": \"json_object\"},\n",
    "        messages=messages,\n",
    "        max_tokens=1000\n",
    "    )\n",
    "\n",
    "    return completion.choices[0].message.content \n",
    "\n",
    "oet_client = OpenAI(\n",
    "    api_key=os.getenv('OPENAI_API_TOKEN'),\n",
    "    organization=os.getenv('OPENAI_ORG_ID'), # unnecessary\n",
    "    project=os.getenv('OPENAI_PROJ_OET'), # to track expenses\n",
    ")\n",
    "\n",
    "gen_card = few_shot_card_generation(oet_client, res)"
   ]
  },
  {
   "cell_type": "code",
   "execution_count": 123,
   "id": "f1db7902-b09e-4405-a3e4-53a96a488c8b",
   "metadata": {},
   "outputs": [
    {
     "data": {
      "text/plain": [
       "{'SETTING': 'Geriatric Care Facility',\n",
       " 'PATIENT_CARD': 'You are an 85-year-old woman who recently moved into a geriatric care facility. You have been experiencing frequent urination, especially at night, and sometimes feel a burning sensation when passing urine. You are concerned about these symptoms and are requesting a medical check-up.',\n",
       " 'PATIENT_TASK': ['Express your concerns about the frequent urination and burning sensation when passing urine.',\n",
       "  'Mention that you have also noticed a slight decrease in your appetite and energy levels recently.',\n",
       "  'Ask the doctor if these symptoms could be related to your age or if they indicate a specific medical condition.',\n",
       "  'Inquire about the possible treatment options for your symptoms.',\n",
       "  'Request advice on how to manage these symptoms effectively.'],\n",
       " 'DOCTOR_CARD': 'Your patient is an 85-year-old woman who recently moved into a geriatric care facility. She is experiencing frequent urination, especially at night, and a burning sensation when passing urine. She is concerned about these symptoms and is requesting a medical check-up.',\n",
       " 'DOCTOR_TASK': ['Ask the patient about the frequency and severity of her symptoms, as well as any other accompanying symptoms.',\n",
       "  \"Inquire about the patient's medical history, particularly any past urinary tract infections or conditions.\",\n",
       "  \"Discuss the potential causes of the patient's symptoms, including UTI, age-related changes, etc.\",\n",
       "  'Explain the importance of a urinalysis to determine the underlying cause of the symptoms.',\n",
       "  'Recommend lifestyle modifications, such as increasing fluid intake, and possible treatment options, such as antibiotics for a UTI, depending on the urinalysis results.']}"
      ]
     },
     "execution_count": 123,
     "metadata": {},
     "output_type": "execute_result"
    }
   ],
   "source": [
    "card_json = json.loads(gen_card)\n",
    "card_json"
   ]
  },
  {
   "cell_type": "code",
   "execution_count": 126,
   "id": "ffd7f289-4870-4b52-a921-a984a6a7686c",
   "metadata": {},
   "outputs": [
    {
     "data": {
      "text/plain": [
       "dict_keys(['SETTING', 'PATIENT_CARD', 'PATIENT_TASK', 'DOCTOR_CARD', 'DOCTOR_TASK'])"
      ]
     },
     "execution_count": 126,
     "metadata": {},
     "output_type": "execute_result"
    }
   ],
   "source": [
    "card_json.keys()"
   ]
  },
  {
   "cell_type": "markdown",
   "id": "a4942453-3dc6-4f6b-b142-857bf617971c",
   "metadata": {},
   "source": [
    "### Make a print as message"
   ]
  },
  {
   "cell_type": "code",
   "execution_count": 135,
   "id": "788bf6ac-facc-4c70-ad92-2e89838e56a2",
   "metadata": {},
   "outputs": [],
   "source": [
    "assert list(card_json.keys()) == ['SETTING', 'PATIENT_CARD', 'PATIENT_TASK', 'DOCTOR_CARD', 'DOCTOR_TASK']\n",
    "assert len(card_json['PATIENT_TASK']) == 5 and len(card_json['DOCTOR_TASK']) == 5"
   ]
  },
  {
   "cell_type": "code",
   "execution_count": 151,
   "id": "299b3fa8-afc0-4585-ba8a-d4966310b559",
   "metadata": {},
   "outputs": [
    {
     "name": "stdout",
     "output_type": "stream",
     "text": [
      "# OET Exam Role Play Card\n",
      "\n",
      "## Setting: Geriatric Care Facility\n",
      "\n",
      "## Patient Card\n",
      "You are an 85-year-old woman who recently moved into a geriatric care facility. You have been experiencing frequent urination, especially at night, and sometimes feel a burning sensation when passing urine. You are concerned about these symptoms and are requesting a medical check-up.\n",
      "\n",
      "## Patient Tasks\n",
      "1. Express your concerns about the frequent urination and burning sensation when passing urine.\n",
      "2. Mention that you have also noticed a slight decrease in your appetite and energy levels recently.\n",
      "3. Ask the doctor if these symptoms could be related to your age or if they indicate a specific medical condition.\n",
      "4. Inquire about the possible treatment options for your symptoms.\n",
      "5. Request advice on how to manage these symptoms effectively.\n",
      "\n",
      "## Doctor Card\n",
      "Your patient is an 85-year-old woman who recently moved into a geriatric care facility. She is experiencing frequent urination, especially at night, and a burning sensation when passing urine. She is concerned about these symptoms and is requesting a medical check-up.\n",
      "\n",
      "## Doctor Tasks\n",
      "1. Ask the patient about the frequency and severity of her symptoms, as well as any other accompanying symptoms.\n",
      "2. Inquire about the patient's medical history, particularly any past urinary tract infections or conditions.\n",
      "3. Discuss the potential causes of the patient's symptoms, including UTI, age-related changes, etc.\n",
      "4. Explain the importance of a urinalysis to determine the underlying cause of the symptoms.\n",
      "5. Recommend lifestyle modifications, such as increasing fluid intake, and possible treatment options, such as antibiotics for a UTI, depending on the urinalysis results.\n",
      "\n"
     ]
    }
   ],
   "source": [
    "from io import StringIO\n",
    "\n",
    "\n",
    "def generate_oet_card_text(card):\n",
    "    card_data = eval(card)  # Convert the string representation of the dictionary back to a dictionary\n",
    "    buffer = StringIO()\n",
    "    \n",
    "    buffer.write(\"# OET Exam Role Play Card\\n\\n\")\n",
    "    buffer.write(f\"## Setting: {card_data['SETTING']}\\n\\n\")\n",
    "    buffer.write(f\"## Patient Card\\n{card_data['PATIENT_CARD']}\\n\\n\")\n",
    "    buffer.write(\"## Patient Tasks\\n\")\n",
    "    for i, task in enumerate(card_data['PATIENT_TASK'], 1):\n",
    "        buffer.write(f\"{i}. {task}\\n\")\n",
    "        \n",
    "    buffer.write(f\"\\n## Doctor Card\\n{card_data['DOCTOR_CARD']}\\n\\n\")\n",
    "    buffer.write(\"## Doctor Tasks\\n\")\n",
    "    for i, task in enumerate(card_data['DOCTOR_TASK'], 1):\n",
    "        buffer.write(f\"{i}. {task}\\n\")\n",
    "    \n",
    "    buffer.seek(0)\n",
    "    return buffer\n",
    "\n",
    "buffer = generate_oet_card_text(gen_card)\n",
    "text = buffer.getvalue()\n",
    "print(text)"
   ]
  },
  {
   "cell_type": "code",
   "execution_count": 166,
   "id": "1e985f37-211b-4b0f-b95d-ffff66614d47",
   "metadata": {},
   "outputs": [],
   "source": [
    "import textwrap\n",
    "from fpdf import FPDF\n",
    "from PIL import Image, ImageDraw, ImageFont\n",
    "\n",
    "\n",
    "def create_pdf_from_buffer(buffer, filename=\"../data/card_output.pdf\"):\n",
    "    pdf = FPDF()\n",
    "    pdf.add_page()\n",
    "    pdf.set_auto_page_break(auto=True, margin=0)\n",
    "    pdf.set_font(\"Arial\", size=10)\n",
    "    \n",
    "    # Split the text into lines and add each line to the PDF\n",
    "    text = buffer.getvalue()\n",
    "    for line in text.split('\\n'):\n",
    "        pdf.multi_cell(0, 10, txt=line, align='L')\n",
    "    \n",
    "    pdf.output(filename)\n",
    "\n",
    "def create_jpeg_from_buffer(buffer, filename=\"../data/card_output.jpg\"):\n",
    "    # Create an image with white background\n",
    "    img = Image.new('RGB', (700, 800), color=(255, 255, 255))\n",
    "    d = ImageDraw.Draw(img)\n",
    "    \n",
    "    # Use a truetype font\n",
    "    try:\n",
    "        font = ImageFont.truetype(\"arial.ttf\", 15)\n",
    "    except IOError:\n",
    "        font = ImageFont.load_default()\n",
    "    \n",
    "    # Split the text into lines and draw each line on the image\n",
    "    text = buffer.getvalue()\n",
    "    margin = 40\n",
    "    offset = 40\n",
    "    for line in text.split('\\n'):\n",
    "        wrapped_text = textwrap.fill(line, width=85)  # Adjust width as needed\n",
    "        for wrap_line in wrapped_text.split('\\n'):\n",
    "            d.text((margin, offset), wrap_line, font=font, fill=(0, 0, 0))\n",
    "            offset += 15  # Move down for next line\n",
    "            if offset > img.size[1] - 40:  # Add pages if needed\n",
    "                new_img = Image.new('RGB', (700, 800), color=(255, 255, 255))\n",
    "                new_img.paste(img, (0, 0))\n",
    "                img = new_img\n",
    "                d = ImageDraw.Draw(img)\n",
    "                offset = 40\n",
    "    \n",
    "    img.save(filename)\n",
    "\n",
    "create_pdf_from_buffer(buffer)\n",
    "create_jpeg_from_buffer(buffer)"
   ]
  },
  {
   "cell_type": "markdown",
   "id": "bac5fd72-0381-4f0d-b8c9-458da2f1dfbf",
   "metadata": {},
   "source": [
    "# 2. Show the Card and wait 3 minutes.\n",
    "* At this point we have to show the user his card and let him prepare with it for 3 minutes"
   ]
  },
  {
   "cell_type": "code",
   "execution_count": 10,
   "id": "05be3d46-5902-4af9-bffb-8cbdb795958a",
   "metadata": {},
   "outputs": [
    {
     "name": "stdout",
     "output_type": "stream",
     "text": [
      "You know have 3 minutes to prepare\n",
      "Doctor Card:\n",
      "**SETTING**: Dermatology Clinic\n",
      "**DOCTOR**: Your patient is a 30-year-old woman presenting with severe itching and redness on her arms, legs, and back. She reports disrupted sleep and daily activities despite trying over-the-counter creams.\n",
      "**DOCTOR TASKS**\n",
      "  - Inquire about the duration and progression of the symptoms.\n",
      "  - Discuss potential triggers for the itching and redness (e.g., new products, environmental changes).\n",
      "  - Explain the possible causes of the symptoms (e.g., contact dermatitis, eczema) and the importance of a proper diagnosis.\n",
      "  - Recommend allergy testing or patch testing to identify potential allergens.\n",
      "  - Provide treatment options such as prescription creams, lifestyle modifications, and follow-up care.\n",
      "\n"
     ]
    }
   ],
   "source": [
    "import time\n",
    "\n",
    "\n",
    "print('You know have 3 minutes to prepare', formatted_cards['doctor'], sep='\\n')\n",
    "time.sleep(1) ## 180"
   ]
  },
  {
   "cell_type": "markdown",
   "id": "20496120-d260-4be5-8901-429629e7aefb",
   "metadata": {},
   "source": [
    "# 3. Generate a Voice Message.\n",
    "* Voice Message from the User. It will be just sent to us in telegram, but here I need to generate it."
   ]
  },
  {
   "cell_type": "markdown",
   "id": "c5abb17f-a4e1-46b4-b7c0-c0ec7b74dbc8",
   "metadata": {},
   "source": [
    "## 3.1 Google Text-to-Speech \n",
    "* I liked this the most"
   ]
  },
  {
   "cell_type": "code",
   "execution_count": 11,
   "id": "aad95498-8505-47d1-85ed-f1db9b9139ff",
   "metadata": {},
   "outputs": [],
   "source": [
    "# !pip install gtts -q"
   ]
  },
  {
   "cell_type": "code",
   "execution_count": 15,
   "id": "b0badda0-3f61-4275-9916-bb4fb634b85f",
   "metadata": {},
   "outputs": [
    {
     "data": {
      "text/plain": [
       "0"
      ]
     },
     "execution_count": 15,
     "metadata": {},
     "output_type": "execute_result"
    }
   ],
   "source": [
    "from gtts import gTTS\n",
    "\n",
    "user = 'Pete'\n",
    "text = f\"Hello, my name is {user}, I am a doctor of this clinic. May I know your name and please tell me what is bothering you?\"\n",
    "\n",
    "tts = gTTS(text=text, lang='en')\n",
    "\n",
    "path = f\"../data/audio_storage/{user}_intro_gtts.mp3\"\n",
    "tts.save(path)\n",
    "\n",
    "os.system(f\"start {path}\")  # For Windows"
   ]
  },
  {
   "cell_type": "code",
   "execution_count": 16,
   "id": "379e3ba3-3ae3-425b-83c9-57d26c65acaf",
   "metadata": {},
   "outputs": [],
   "source": [
    "def create_audio(text, path):\n",
    "    tts = gTTS(text=text, lang='en')\n",
    "    tts.save(path)"
   ]
  },
  {
   "cell_type": "markdown",
   "id": "da5480ca-9f6c-485b-a546-0e8b9e55375a",
   "metadata": {},
   "source": [
    "## 3.2 pyttsx3 is a text-to-speech conversion library in Python\n",
    "\n",
    "* Didn't like the sound."
   ]
  },
  {
   "cell_type": "code",
   "execution_count": 17,
   "id": "a19d1c0b-986b-4b4a-bd92-ded576ac5d2e",
   "metadata": {},
   "outputs": [],
   "source": [
    "# import pyttsx3\n",
    "\n",
    "# # Initialize the TTS engine\n",
    "# engine = pyttsx3.init()\n",
    "\n",
    "# # Text to convert to speech\n",
    "# text = f\"Hello, my name is {user}, I am a doctor of this clinic. May I know your name and please tell me what is bothering you?\"\n",
    "\n",
    "# # Set properties (optional)\n",
    "# engine.setProperty('rate', 200)  # Speed of speech\n",
    "# engine.setProperty('volume', 0.9)  # Volume (0.0 to 1.0)\n",
    "\n",
    "# # Convert text to speech\n",
    "# path = f\"data/audio_storage/{user}_intro_pyttsx3.mp3\"\n",
    "# engine.save_to_file(text, path)\n",
    "# engine.runAndWait()\n",
    "\n",
    "# os.system(f\"start {path}\")  # For Windows"
   ]
  },
  {
   "cell_type": "markdown",
   "id": "fb7787cf-bc3a-4355-8a07-81eb4bc97e54",
   "metadata": {},
   "source": [
    "## 3.3 TTS"
   ]
  },
  {
   "cell_type": "code",
   "execution_count": 18,
   "id": "58a66eba-1a5a-49b0-be88-b93c6675f4be",
   "metadata": {},
   "outputs": [],
   "source": [
    "# import torch\n",
    "# from TTS.api import TTS\n",
    "\n",
    "# device = \"cuda\" if torch.cuda.is_available() else \"cpu\"\n",
    "# print(device)\n",
    "\n",
    "# # print(TTS().list_models().list_tts_models())\n",
    "\n",
    "# tts = TTS('tts_models/en/ljspeech/speedy-speech').to(device)\n",
    "\n",
    "# text = f\"Hello, my name is {user}, I am a doctor of this clinic. May I know your name and please tell me what is bothering you?\"\n",
    "\n",
    "# path = f\"data/audio_storage/{user}_intro_tts.mp3\"\n",
    "# tts.tts_to_file(text=text, file_path=path) # speaker_wav=\"my/cloning/audio.wav\"\n",
    "\n",
    "# os.system(f\"start {path}\") # For Windows"
   ]
  },
  {
   "cell_type": "markdown",
   "id": "0f326919-5472-4885-b036-0a6f2eef10cc",
   "metadata": {},
   "source": [
    "# 4. Transcribing the Voice Message with Whisper"
   ]
  },
  {
   "cell_type": "code",
   "execution_count": 19,
   "id": "ca1594de-d37d-4ceb-ad2b-b57677261242",
   "metadata": {},
   "outputs": [],
   "source": [
    "# !pip3 install torch torchvision torchaudio --index-url https://download.pytorch.org/whl/cu121"
   ]
  },
  {
   "cell_type": "code",
   "execution_count": 20,
   "id": "ac8efbd5-8f62-4638-bc4e-d80d91d0e1aa",
   "metadata": {},
   "outputs": [],
   "source": [
    "# !pip install git+https://github.com/openai/whisper.git"
   ]
  },
  {
   "cell_type": "code",
   "execution_count": 21,
   "id": "3ddb773a-9100-437b-9eb3-77f3b1c5e9c8",
   "metadata": {
    "scrolled": true
   },
   "outputs": [
    {
     "name": "stdout",
     "output_type": "stream",
     "text": [
      "cuda\n"
     ]
    }
   ],
   "source": [
    "import torch\n",
    "import torchaudio\n",
    "from torch.cuda.amp import autocast\n",
    "import whisper\n",
    "\n",
    "device = \"cuda\" if torch.cuda.is_available() else \"CPU\"\n",
    "print(device)\n",
    "\n",
    "# Select from the following models: \"tiny\", \"base\", \"small\", \"medium\", \"large\"\n",
    "whisper_model = whisper.load_model(\"base\", device=device)"
   ]
  },
  {
   "cell_type": "code",
   "execution_count": 22,
   "id": "29e75354-9bf4-4928-802b-d1dd090748f4",
   "metadata": {},
   "outputs": [],
   "source": [
    "def load_audio(audio_path):\n",
    "    waveform, sample_rate = torchaudio.load(audio_path)\n",
    "    return waveform, sample_rate\n",
    "\n",
    "def create_audio_chunks(waveform, total_duration, sample_rate, chunk_duration=30):\n",
    "    chunks = []\n",
    "    for start in range(0, int(total_duration), chunk_duration):\n",
    "        end = min(start + chunk_duration, total_duration)\n",
    "        chunk_waveform = waveform[:, int(start * sample_rate):int(end * sample_rate)]\n",
    "        chunks.append(chunk_waveform)\n",
    "    return chunks, sample_rate\n",
    "\n",
    "def transcribe_with_whisper(model, audio_path):\n",
    "    if not os.path.isfile(audio_path):\n",
    "        raise FileNotFoundError(f\"The file {audio_path} does not exist.\")\n",
    "    else: \n",
    "        waveform, sample_rate = load_audio(audio_path)\n",
    "        total_duration = waveform.size(1) / sample_rate\n",
    "        \n",
    "    if not torch.cuda.is_available():\n",
    "        raise RuntimeError(\"CUDA is not available. Please check your CUDA installation.\")\n",
    "\n",
    "    if total_duration <= 30:\n",
    "        waveform = waveform.to(device)\n",
    "\n",
    "        # Whisper expects audio to be resampled to 16000 Hz\n",
    "        resampler = torchaudio.transforms.Resample(orig_freq=sample_rate, new_freq=16000).to(device)\n",
    "        waveform = resampler(waveform)\n",
    "\n",
    "        audio_tensor = waveform.squeeze(0).cpu().numpy()  # Whisper expects a 1D numpy array\n",
    "        options = {\"fp16\": False, \"language\": None, \"task\": \"transcribe\"}\n",
    "        result = model.transcribe(audio_tensor, **options)\n",
    "        \n",
    "        return result['text']\n",
    "    else:\n",
    "        chunks, sample_rate = create_audio_chunks(waveform, total_duration, sample_rate)\n",
    "    \n",
    "        # Whisper expects audio to be resampled to 16000 Hz\n",
    "        resampler = torchaudio.transforms.Resample(orig_freq=sample_rate, new_freq=16000).to(device)\n",
    "        transcriptions = []\n",
    "    \n",
    "        for chunk in chunks:\n",
    "            chunk = chunk.to(device)\n",
    "            chunk = resampler(chunk)\n",
    "            \n",
    "            with autocast():\n",
    "                audio_tensor = chunk.squeeze(0).cpu().numpy()  # Whisper expects a 1D numpy array\n",
    "                result = model.transcribe(audio_tensor)\n",
    "                transcriptions.append(result['text'])\n",
    "    \n",
    "            torch.cuda.empty_cache() # Release GPU memory\n",
    "    \n",
    "        return \" \".join(transcriptions)"
   ]
  },
  {
   "cell_type": "markdown",
   "id": "973e8ddb-ff7e-41af-a37b-7f4c86c7e76a",
   "metadata": {},
   "source": [
    "## 4.1 Small text transcribing"
   ]
  },
  {
   "cell_type": "code",
   "execution_count": 23,
   "id": "713665a1-2f86-4bee-a3fb-848ff99118cf",
   "metadata": {},
   "outputs": [
    {
     "name": "stdout",
     "output_type": "stream",
     "text": [
      "CPU times: total: 3.22 s\n",
      "Wall time: 1.69 s\n"
     ]
    },
    {
     "data": {
      "text/plain": [
       "' Hello, my name is Pete. I am a doctor of this clinic. May I know your name and please tell me what is bothering you?'"
      ]
     },
     "execution_count": 23,
     "metadata": {},
     "output_type": "execute_result"
    }
   ],
   "source": [
    "%%time\n",
    "\n",
    "transcribed_text = transcribe_with_whisper(whisper_model, path)\n",
    "transcribed_text"
   ]
  },
  {
   "cell_type": "markdown",
   "id": "40acf703-f84c-4e59-8701-0b28d1a9a855",
   "metadata": {},
   "source": [
    "## 4.2 Big text transcribing"
   ]
  },
  {
   "cell_type": "code",
   "execution_count": 24,
   "id": "4e4602c7-3861-46b1-9ec4-98531f34d508",
   "metadata": {},
   "outputs": [],
   "source": [
    "long_text = '''\n",
    "In a bustling town, there lived a curious kitten named Milo. Milo had bright green eyes and a fluffy tail that always seemed to be in motion. He loved to explore every nook and cranny, making new friends along the way. One day, while chasing a butterfly, Milo wandered farther than ever before and stumbled upon an old, enchanted garden.\n",
    "In the garden, flowers sang melodies, and trees whispered ancient secrets. Milo's whiskers twitched with excitement. As he ventured deeper, he found a tiny, golden door at the base of a giant oak tree. Unable to resist, Milo pushed it open and stepped inside.\n",
    "To his amazement, he found himself in a land of miniature creatures. Tiny fairies flitted about, and little gnomes tended to their mushroom houses. The ruler of this land, Queen Lila, approached Milo with a warm smile. \"Welcome, Milo. We need your help,\" she said.\n",
    "Queen Lila explained that a mischievous squirrel named Nibbles had stolen their magical acorn, which kept the garden alive. Without it, the garden would wither away. Brave and determined, Milo agreed to help.\n",
    "With the fairies' guidance, Milo tracked down Nibbles and persuaded him to return the acorn. In gratitude, Queen Lila gifted Milo a magical collar that would always guide him home. Milo returned to his town, carrying memories of a fantastical adventure and a heart full of new friendships. From then on, Milo knew that no matter where his curiosity led him, he would always find his way back home.\n",
    "'''"
   ]
  },
  {
   "cell_type": "code",
   "execution_count": 36,
   "id": "9a727677-3f96-49c6-b3ef-17bf7203058e",
   "metadata": {},
   "outputs": [
    {
     "name": "stdout",
     "output_type": "stream",
     "text": [
      "CPU times: total: 1.09 s\n",
      "Wall time: 8.85 s\n"
     ]
    }
   ],
   "source": [
    "%%time\n",
    "\n",
    "user = 'Pete'\n",
    "long_audio_path = f\"../data/audio_storage/{user}_long_gtts.mp3\"\n",
    "create_audio(long_text, long_audio_path)"
   ]
  },
  {
   "cell_type": "code",
   "execution_count": 37,
   "id": "8228eb84-68e4-4daa-aff6-c594d7130bcd",
   "metadata": {},
   "outputs": [
    {
     "name": "stdout",
     "output_type": "stream",
     "text": [
      "CPU times: total: 12.2 s\n",
      "Wall time: 6.36 s\n"
     ]
    },
    {
     "data": {
      "text/plain": [
       "' in a bustling town. Their lived a curious kitten named Milo. Milo had bright green eyes and a fluffy tail that always seemed to be in motion. He loved to explore every nook and cranny, making new friends along the way. One day, while chasing a butterfly, Milo wandered farther than ever before and stumbled upon an old, enchanted garden. In the garden, flowers sang melodies.  and Trees whispered ancient secrets. Milo\\'s whiskers twitched with excitement. As he ventured deeper, he found a tiny, golden door at the base of a giant oak tree, unable to resist. Milo pushed it open and stepped inside. To his amazement, he found himself in a land of miniature creatures. Tiny fairies flittered about. And little gnomes tended to their mushroom houses. The ruler...  of this land. Queen Lila approached Milo with a warm smile. Welcome! Milo! We need your help!\" she said. Queen Lila explained that a mischievous squirrel named nibbles had stolen their magical acorn. Which kept the garden alive. Without it, the garden would wither away. Brave and determined. Milo agreed to help with the Ferries guidance. Milo tracked down.  nibbles and persuaded him to return the acorn. In gratitude, Queen Lila gifted Milo a magical collar that would always guide him home. Milo returned to his town, carrying memories of a fantastical adventure and a heartful of new friendships. From then on, Milo knew that no matter where his curiosity led him, he would always find his way back home.'"
      ]
     },
     "execution_count": 37,
     "metadata": {},
     "output_type": "execute_result"
    }
   ],
   "source": [
    "%%time\n",
    "\n",
    "transcribed_text = transcribe_with_whisper(whisper_model, long_audio_path)\n",
    "transcribed_text"
   ]
  },
  {
   "cell_type": "markdown",
   "id": "80a026e1-b8d7-47c6-a177-969a5c36cd06",
   "metadata": {},
   "source": [
    "# 4* Assessing the accuracy of text transcription"
   ]
  },
  {
   "cell_type": "code",
   "execution_count": 38,
   "id": "fe2b4a8c-1095-4d23-be12-7b019e884115",
   "metadata": {},
   "outputs": [],
   "source": [
    "import re\n",
    "import Levenshtein\n",
    "import numpy as np\n",
    "from nltk.tokenize import word_tokenize\n",
    "from sklearn.feature_extraction.text import TfidfVectorizer\n",
    "from sklearn.metrics.pairwise import cosine_similarity\n",
    "from difflib import ndiff\n",
    "\n",
    "def normalize_text(text):\n",
    "    text = text.lower()\n",
    "    text = re.sub(r'[^\\w\\s]', '', text)\n",
    "    return text\n",
    "\n",
    "def calculate_levenshtein_distance(original_text, transcribed_text):\n",
    "    original_text_norm = normalize_text(original_text)\n",
    "    transcribed_text_norm = normalize_text(transcribed_text)\n",
    "    distance = Levenshtein.distance(original_text_norm, transcribed_text_norm)\n",
    "    return distance\n",
    "\n",
    "def calculate_cosine_similarity(original_text, transcribed_text):\n",
    "    original_text_norm = normalize_text(original_text)\n",
    "    transcribed_text_norm = normalize_text(transcribed_text)\n",
    "\n",
    "    original_tokens = word_tokenize(original_text_norm)\n",
    "    transcribed_tokens = word_tokenize(transcribed_text_norm)\n",
    "\n",
    "    original_text_combined = ' '.join(original_tokens)\n",
    "    transcribed_text_combined = ' '.join(transcribed_tokens)\n",
    "\n",
    "    vectorizer = TfidfVectorizer().fit_transform([original_text_combined, transcribed_text_combined])\n",
    "    vectors = vectorizer.toarray()\n",
    "\n",
    "    cosine_sim = cosine_similarity(vectors)\n",
    "    return cosine_sim[0, 1]\n",
    "\n",
    "def detailed_diff(original_text, transcribed_text):\n",
    "    original_text_norm = normalize_text(original_text)\n",
    "    transcribed_text_norm = normalize_text(transcribed_text)\n",
    "    diff = ndiff(original_text_norm.split(), transcribed_text_norm.split())\n",
    "    return '\\n'.join(diff)"
   ]
  },
  {
   "cell_type": "code",
   "execution_count": 39,
   "id": "33231001-b0d1-412f-9e89-b7785650010c",
   "metadata": {
    "scrolled": true
   },
   "outputs": [
    {
     "name": "stdout",
     "output_type": "stream",
     "text": [
      "Levenshtein Distance: 17\n",
      "Cosine Similarity: 0.99\n",
      " \n",
      "Detailed Differences:\n",
      "  in\n",
      "  a\n",
      "  bustling\n",
      "  town\n",
      "- there\n",
      "?     -\n",
      "\n",
      "+ their\n",
      "?    +\n",
      "\n",
      "  lived\n",
      "  a\n",
      "  curious\n",
      "  kitten\n",
      "  named\n",
      "  milo\n",
      "  milo\n",
      "  had\n",
      "  bright\n",
      "  green\n",
      "  eyes\n",
      "  and\n",
      "  a\n",
      "  fluffy\n",
      "  tail\n",
      "  that\n",
      "  always\n",
      "  seemed\n",
      "  to\n",
      "  be\n",
      "  in\n",
      "  motion\n",
      "  he\n",
      "  loved\n",
      "  to\n",
      "  explore\n",
      "  every\n",
      "  nook\n",
      "  and\n",
      "  cranny\n",
      "  making\n",
      "  new\n",
      "  friends\n",
      "  along\n",
      "  the\n",
      "  way\n",
      "  one\n",
      "  day\n",
      "  while\n",
      "  chasing\n",
      "  a\n",
      "  butterfly\n",
      "  milo\n",
      "  wandered\n",
      "  farther\n",
      "  than\n",
      "  ever\n",
      "  before\n",
      "  and\n",
      "  stumbled\n",
      "  upon\n",
      "  an\n",
      "  old\n",
      "  enchanted\n",
      "  garden\n",
      "  in\n",
      "  the\n",
      "  garden\n",
      "  flowers\n",
      "  sang\n",
      "  melodies\n",
      "  and\n",
      "  trees\n",
      "  whispered\n",
      "  ancient\n",
      "  secrets\n",
      "  milos\n",
      "  whiskers\n",
      "  twitched\n",
      "  with\n",
      "  excitement\n",
      "  as\n",
      "  he\n",
      "  ventured\n",
      "  deeper\n",
      "  he\n",
      "  found\n",
      "  a\n",
      "  tiny\n",
      "  golden\n",
      "  door\n",
      "  at\n",
      "  the\n",
      "  base\n",
      "  of\n",
      "  a\n",
      "  giant\n",
      "  oak\n",
      "  tree\n",
      "  unable\n",
      "  to\n",
      "  resist\n",
      "  milo\n",
      "  pushed\n",
      "  it\n",
      "  open\n",
      "  and\n",
      "  stepped\n",
      "  inside\n",
      "  to\n",
      "  his\n",
      "  amazement\n",
      "  he\n",
      "  found\n",
      "  himself\n",
      "  in\n",
      "  a\n",
      "  land\n",
      "  of\n",
      "  miniature\n",
      "  creatures\n",
      "  tiny\n",
      "  fairies\n",
      "- flitted\n",
      "+ flittered\n",
      "?       ++\n",
      "\n",
      "  about\n",
      "  and\n",
      "  little\n",
      "  gnomes\n",
      "  tended\n",
      "  to\n",
      "  their\n",
      "  mushroom\n",
      "  houses\n",
      "  the\n",
      "  ruler\n",
      "  of\n",
      "  this\n",
      "  land\n",
      "  queen\n",
      "  lila\n",
      "  approached\n",
      "  milo\n",
      "  with\n",
      "  a\n",
      "  warm\n",
      "  smile\n",
      "  welcome\n",
      "  milo\n",
      "  we\n",
      "  need\n",
      "  your\n",
      "  help\n",
      "  she\n",
      "  said\n",
      "  queen\n",
      "  lila\n",
      "  explained\n",
      "  that\n",
      "  a\n",
      "  mischievous\n",
      "  squirrel\n",
      "  named\n",
      "  nibbles\n",
      "  had\n",
      "  stolen\n",
      "  their\n",
      "  magical\n",
      "  acorn\n",
      "  which\n",
      "  kept\n",
      "  the\n",
      "  garden\n",
      "  alive\n",
      "  without\n",
      "  it\n",
      "  the\n",
      "  garden\n",
      "  would\n",
      "  wither\n",
      "  away\n",
      "  brave\n",
      "  and\n",
      "  determined\n",
      "  milo\n",
      "  agreed\n",
      "  to\n",
      "  help\n",
      "  with\n",
      "  the\n",
      "- fairies\n",
      "+ ferries\n",
      "  guidance\n",
      "  milo\n",
      "  tracked\n",
      "  down\n",
      "  nibbles\n",
      "  and\n",
      "  persuaded\n",
      "  him\n",
      "  to\n",
      "  return\n",
      "  the\n",
      "  acorn\n",
      "  in\n",
      "  gratitude\n",
      "  queen\n",
      "  lila\n",
      "  gifted\n",
      "  milo\n",
      "  a\n",
      "  magical\n",
      "  collar\n",
      "  that\n",
      "  would\n",
      "  always\n",
      "  guide\n",
      "  him\n",
      "  home\n",
      "  milo\n",
      "  returned\n",
      "  to\n",
      "  his\n",
      "  town\n",
      "  carrying\n",
      "  memories\n",
      "  of\n",
      "  a\n",
      "  fantastical\n",
      "  adventure\n",
      "  and\n",
      "  a\n",
      "- heart\n",
      "+ heartful\n",
      "?      +++\n",
      "\n",
      "- full\n",
      "  of\n",
      "  new\n",
      "  friendships\n",
      "  from\n",
      "  then\n",
      "  on\n",
      "  milo\n",
      "  knew\n",
      "  that\n",
      "  no\n",
      "  matter\n",
      "  where\n",
      "  his\n",
      "  curiosity\n",
      "  led\n",
      "  him\n",
      "  he\n",
      "  would\n",
      "  always\n",
      "  find\n",
      "  his\n",
      "  way\n",
      "  back\n",
      "  home\n"
     ]
    }
   ],
   "source": [
    "levenshtein_distance = calculate_levenshtein_distance(long_text, transcribed_text)\n",
    "print(f\"Levenshtein Distance: {levenshtein_distance}\")\n",
    "\n",
    "cosine_sim = calculate_cosine_similarity(long_text, transcribed_text)\n",
    "print(f\"Cosine Similarity: {cosine_sim:.2f}\")\n",
    "\n",
    "diff = detailed_diff(long_text, transcribed_text)\n",
    "print(\" \", \"Detailed Differences:\", diff, sep='\\n')"
   ]
  },
  {
   "cell_type": "markdown",
   "id": "28b485d0-00d1-498f-8c38-0ebac2e50840",
   "metadata": {},
   "source": [
    "# Role Play"
   ]
  },
  {
   "cell_type": "markdown",
   "id": "c298c20c-28f1-42b3-92c1-8e769626e192",
   "metadata": {},
   "source": [
    "## Disription\n",
    "* **Step 1: Creating and Sending the Card to the User** <br> Let's start by creating a card and sending it to the user.\n",
    "* **Step 2: Let the user familiarize himself with his card**\n",
    "* **Step 3: Starting a 5-Minute Timer for Role-Play** <br> Start a 5-minute timer and begin accepting a voice message from the user.\n",
    "* **Loop:**\n",
    "    * **Step 3.1: Receiving a Voice Message from the User** <br> Use the python-telegram-bot library to handle voice messages.\n",
    "    * **Step 3.2: Transcribing the Voice Message with Whisper** <br> Integrate Whisper for processing voice messages.\n",
    "    * **Step 3.3: Generating an Audio Response - Patient's Reply** <br> Use OpenAI GPT-4 to generate the patient's reply text.\n",
    "    * **Step 3.4: Sending the Audio Response to the User** <br> Use Google Text-to-Speech to create an audio file and send the generated audio file to the user."
   ]
  },
  {
   "cell_type": "code",
   "execution_count": 40,
   "id": "3573c0d8-78a5-4248-844f-11e2ec5d15f7",
   "metadata": {},
   "outputs": [
    {
     "name": "stdout",
     "output_type": "stream",
     "text": [
      "Now introduce yourself as a doctor and record your first voice message. You have 5 minutes.\n"
     ]
    }
   ],
   "source": [
    "print('Now introduce yourself as a doctor and record your first voice message. You have 5 minutes.')\n",
    "\n",
    "# 300 seconds timer"
   ]
  },
  {
   "cell_type": "markdown",
   "id": "a5ee46ca-36a9-41bc-ae5a-0a8f93b347bc",
   "metadata": {},
   "source": [
    "We've received the first audio from a user"
   ]
  },
  {
   "cell_type": "code",
   "execution_count": 41,
   "id": "d73f7157-78a1-421e-ac85-0a53b54080a1",
   "metadata": {},
   "outputs": [
    {
     "data": {
      "text/plain": [
       "' Hello, my name is Pete. I am a doctor of this clinic. May I know your name and please tell me what is bothering you?'"
      ]
     },
     "execution_count": 41,
     "metadata": {},
     "output_type": "execute_result"
    }
   ],
   "source": [
    "user_text = transcribe_with_whisper(whisper_model, path)\n",
    "user_text"
   ]
  },
  {
   "cell_type": "markdown",
   "id": "397f938b-0be4-4643-9848-7b4201fe62ce",
   "metadata": {},
   "source": [
    "Patient model content."
   ]
  },
  {
   "cell_type": "code",
   "execution_count": 42,
   "id": "221840e3-0b89-4381-8824-8b45924d2592",
   "metadata": {},
   "outputs": [
    {
     "name": "stdout",
     "output_type": "stream",
     "text": [
      "\n",
      "You play a patient in a role-playing game, you have a situation card: {\"Patient Card:\\n**SETTING**: Dermatology Clinic\\n**PATIENT**: You are a 30-year-old woman who has been experiencing severe itching and redness on your skin for the past few weeks. You have noticed the symptoms mainly on your arms, legs, and back. The itching is disrupting your sleep and daily activities, and you have tried over-the-counter creams with no relief.\\n**PATIENT TASKS**\\n  - Describe the severity of the itching and redness on your skin, mentioning the areas affected.\\n  - Express how the itching is impacting your sleep and daily life.\\n  - Inform the doctor about the unsuccessful use of over-the-counter creams.\\n  - Ask the doctor about the possible causes of your symptoms and if it could be a skin allergy.\\n  - Acknowledge the doctor's recommendations and ask about the next steps.\\n\"}.\n",
      "All you need to do is to FOLLOW the role play card.\n",
      "Don't dump all the information at once!\n",
      "You may be asked to tell what you came with, don't answer with sentences from the task, just give a short description (take it from your card).\n",
      "Your task is to complete your tasks one by one, either until you are asked about something or until you are asked what is bothering you. \n",
      "Try not to go beyond what's on your card. If you are asked something not on your card, answer it briefly.\n",
      "\n"
     ]
    }
   ],
   "source": [
    "system_content = f\"\"\"\n",
    "You play a patient in a role-playing game, you have a situation card: { {formatted_cards['patient']} }.\n",
    "All you need to do is to FOLLOW the role play card.\n",
    "Don't dump all the information at once!\n",
    "You may be asked to tell what you came with, don't answer with sentences from the task, just give a short description (take it from your card).\n",
    "Your task is to complete your tasks one by one, either until you are asked about something or until you are asked what is bothering you. \n",
    "Try not to go beyond what's on your card. If you are asked something not on your card, answer it briefly.\n",
    "\"\"\"\n",
    "print(system_content)\n",
    "\n",
    "# Your name is AI patient.\n",
    "# If they ask you your name - you can make it up, but regarding the doctor's questions about your condition, answer only what is on the notes.\n",
    "# Do not move on to the next question until you have received an answer to the previous one. "
   ]
  },
  {
   "cell_type": "code",
   "execution_count": 43,
   "id": "b52585ac-c443-4ff9-866c-e95742c3d419",
   "metadata": {},
   "outputs": [],
   "source": [
    "messages = [{\"role\": \"system\", \"content\": system_content}] # Append a system content\n",
    "\n",
    "def chatbot_response(user_input):\n",
    "    messages.append({\"role\": \"user\", \"content\": user_input}) # Append user's message\n",
    "    \n",
    "    completion = client.chat.completions.create(\n",
    "        model=openai_model,\n",
    "        messages=messages,\n",
    "        max_tokens=200\n",
    "    )\n",
    "    \n",
    "    output_text = completion.choices[0].message.content\n",
    "    messages.append({\"role\": \"assistant\", \"content\": output_text}) # Append assistant's message\n",
    "    return output_text"
   ]
  },
  {
   "cell_type": "code",
   "execution_count": 45,
   "id": "9228eeba-5738-4c1d-af31-a09034b0a3cf",
   "metadata": {},
   "outputs": [
    {
     "name": "stdout",
     "output_type": "stream",
     "text": [
      "Doctor Card:\n",
      "**SETTING**: Dermatology Clinic\n",
      "**DOCTOR**: Your patient is a 30-year-old woman presenting with severe itching and redness on her arms, legs, and back. She reports disrupted sleep and daily activities despite trying over-the-counter creams.\n",
      "**DOCTOR TASKS**\n",
      "  - Inquire about the duration and progression of the symptoms.\n",
      "  - Discuss potential triggers for the itching and redness (e.g., new products, environmental changes).\n",
      "  - Explain the possible causes of the symptoms (e.g., contact dermatitis, eczema) and the importance of a proper diagnosis.\n",
      "  - Recommend allergy testing or patch testing to identify potential allergens.\n",
      "  - Provide treatment options such as prescription creams, lifestyle modifications, and follow-up care.\n",
      "\n"
     ]
    }
   ],
   "source": [
    "print(formatted_cards['doctor'])"
   ]
  },
  {
   "cell_type": "code",
   "execution_count": 44,
   "id": "daa36fbd-eebc-4a6e-935c-e82142e2cc2b",
   "metadata": {},
   "outputs": [
    {
     "name": "stdout",
     "output_type": "stream",
     "text": [
      "You:  exit\n"
     ]
    }
   ],
   "source": [
    "user_input = input(\"You: \")\n",
    "\n",
    "while user_input.lower() != 'exit':\n",
    "    response = chatbot_response(user_input)\n",
    "    print(f\"AI: {response}\")\n",
    "    \n",
    "    user_input = input(\"You: \")"
   ]
  }
 ],
 "metadata": {
  "kernelspec": {
   "display_name": "oet_env",
   "language": "python",
   "name": "oet_env"
  },
  "language_info": {
   "codemirror_mode": {
    "name": "ipython",
    "version": 3
   },
   "file_extension": ".py",
   "mimetype": "text/x-python",
   "name": "python",
   "nbconvert_exporter": "python",
   "pygments_lexer": "ipython3",
   "version": "3.10.11"
  }
 },
 "nbformat": 4,
 "nbformat_minor": 5
}
